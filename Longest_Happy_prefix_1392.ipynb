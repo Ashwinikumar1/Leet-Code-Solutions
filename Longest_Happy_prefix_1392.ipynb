{
 "cells": [
  {
   "cell_type": "markdown",
   "metadata": {},
   "source": [
    "### Longest Happy prefix\n",
    "\n",
    "A string is called a happy prefix if is a non-empty prefix which is also a suffix (excluding itself).\n",
    "\n",
    "Given a string s. Return the longest happy prefix of s .\n",
    "\n",
    "Return an empty string if no such prefix exists."
   ]
  },
  {
   "cell_type": "markdown",
   "metadata": {},
   "source": [
    "Input: s = \"level\"\n",
    "Output: \"l\"\n",
    "Explanation: s contains 4 prefix excluding itself (\"l\", \"le\", \"lev\", \"leve\"), and suffix (\"l\", \"el\", \"vel\", \"evel\"). The largest prefix which is also suffix is given by \"l\"."
   ]
  },
  {
   "cell_type": "code",
   "execution_count": 2,
   "metadata": {},
   "outputs": [],
   "source": [
    "class Solution(object):\n",
    "    def longestPrefix(self, s):\n",
    "        \"\"\"\n",
    "        :type s: str\n",
    "        :rtype: str\n",
    "        \"\"\"   \n",
    "        # prefix = {}\n",
    "        # suffix = {} \n",
    "        # j = len(s)-1\n",
    "        # pre = ''\n",
    "        # suf = ''\n",
    "\n",
    "        n = len(s)\n",
    "        for i in range(n - 2, -1, -1):\n",
    "            prefix = s[:i + 1]\n",
    "            suffix = s[n - len(prefix):]\n",
    "\n",
    "            if prefix == suffix:\n",
    "                return prefix\n",
    "        return ''"
   ]
  },
  {
   "cell_type": "code",
   "execution_count": null,
   "metadata": {},
   "outputs": [],
   "source": []
  }
 ],
 "metadata": {
  "kernelspec": {
   "display_name": "Python 3",
   "language": "python",
   "name": "python3"
  },
  "language_info": {
   "codemirror_mode": {
    "name": "ipython",
    "version": 3
   },
   "file_extension": ".py",
   "mimetype": "text/x-python",
   "name": "python",
   "nbconvert_exporter": "python",
   "pygments_lexer": "ipython3",
   "version": "3.7.3"
  }
 },
 "nbformat": 4,
 "nbformat_minor": 2
}
