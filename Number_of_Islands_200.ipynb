{
 "cells": [
  {
   "cell_type": "markdown",
   "metadata": {},
   "source": [
    "Given a 2d grid map of '1's (land) and '0's (water), count the number of islands. An island is surrounded by water and is formed by connecting adjacent lands horizontally or vertically. You may assume all four edges of the grid are all surrounded by water."
   ]
  },
  {
   "cell_type": "markdown",
   "metadata": {},
   "source": [
    "Input:\n",
    "11110\n",
    "11010\n",
    "11000\n",
    "00000\n",
    "\n",
    "Output: 1"
   ]
  },
  {
   "cell_type": "markdown",
   "metadata": {},
   "source": [
    "### Solution1 : using recursion and exploring every node till be reach a dead end"
   ]
  },
  {
   "cell_type": "code",
   "execution_count": 4,
   "metadata": {},
   "outputs": [],
   "source": [
    "### Solution 1\n",
    "\n",
    "class Solution(object):\n",
    "    def numIslands(self, grid):\n",
    "        \"\"\"\n",
    "        :type grid: List[List[str]]\n",
    "        :rtype: int\n",
    "        \"\"\"\n",
    "        \n",
    "        ## Handle the edge cases\n",
    "        if len(grid) == 0:\n",
    "            return (0)\n",
    "        \n",
    "        if len(grid[0]) ==0:\n",
    "            return (0)\n",
    "        \n",
    "        count = 0\n",
    "        ### Define the number of rows and columns\n",
    "        row = len(grid)\n",
    "        col = len(grid[0])\n",
    "        \n",
    "        ### We iterate through each cell of the matrix\n",
    "        ### If grid is 1 we call dfs on it and change visited nodes to '' so that it is not explored again\n",
    "        for i in range(row):\n",
    "            for j in range(col):\n",
    "                if grid[i][j] == \"1\":\n",
    "                    print (\"here\")\n",
    "                    count = count + 1\n",
    "                    self.dfs(i,j,row,col,grid)\n",
    "        \n",
    "        return (count)\n",
    "                    \n",
    "    ### The main helper of dfs function\n",
    "    def dfs(self,i,j,row,col,grid):\n",
    "        ## If value of i and j are not valid or out of bound or is not 1 don't explore\n",
    "        if i < 0 or j < 0 or i >= row or j >= col or grid[i][j] != \"1\":\n",
    "            return\n",
    "        grid[i][j] = ''\n",
    "        self.dfs(i+1,j,row,col,grid)\n",
    "        self.dfs(i-1,j,row,col,grid)\n",
    "        self.dfs(i,j+1,row,col,grid)\n",
    "        self.dfs(i,j-1,row,col,grid)\n",
    "    "
   ]
  },
  {
   "cell_type": "markdown",
   "metadata": {},
   "source": [
    "## Solution 2: more efficient \n",
    "## Create a set of all the connected vertices and keep on adding to queue and explore the element completly"
   ]
  },
  {
   "cell_type": "code",
   "execution_count": 5,
   "metadata": {},
   "outputs": [],
   "source": [
    "from collections import deque\n",
    "class Solution(object):\n",
    "    def numIslands(self, grid):\n",
    "        \"\"\"\n",
    "        :type grid: List[List[str]]\n",
    "        :rtype: int\n",
    "        \"\"\"\n",
    "        \n",
    "        graph = set([(i,j) for i in range(len(grid)) for j in range(len(grid[0])) if grid[i][j] == \"1\"])\n",
    "        \n",
    "        num = 0\n",
    "        \n",
    "        while graph:\n",
    "            ## deque is double ended queue it allows popping from left by default\n",
    "            queue = deque([graph.pop()])\n",
    "            num = num + 1\n",
    "            \n",
    "            while queue:\n",
    "                ### In queue you need to define what you have to pop\n",
    "                i,j = queue.popleft()\n",
    "                for item in [(i+1,j),(i-1,j),(i,j+1),(i,j-1)]:\n",
    "                    if item in graph:\n",
    "                        graph.remove(item)\n",
    "                        queue.append(item)\n",
    "                        \n",
    "        return (num)"
   ]
  },
  {
   "cell_type": "code",
   "execution_count": null,
   "metadata": {},
   "outputs": [],
   "source": []
  }
 ],
 "metadata": {
  "kernelspec": {
   "display_name": "Python 3",
   "language": "python",
   "name": "python3"
  },
  "language_info": {
   "codemirror_mode": {
    "name": "ipython",
    "version": 3
   },
   "file_extension": ".py",
   "mimetype": "text/x-python",
   "name": "python",
   "nbconvert_exporter": "python",
   "pygments_lexer": "ipython3",
   "version": "3.7.3"
  }
 },
 "nbformat": 4,
 "nbformat_minor": 2
}
