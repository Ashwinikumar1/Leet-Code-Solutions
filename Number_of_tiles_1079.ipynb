{
 "cells": [
  {
   "cell_type": "code",
   "execution_count": null,
   "metadata": {},
   "outputs": [],
   "source": []
  },
  {
   "cell_type": "code",
   "execution_count": null,
   "metadata": {},
   "outputs": [],
   "source": []
  },
  {
   "cell_type": "code",
   "execution_count": null,
   "metadata": {},
   "outputs": [],
   "source": [
    "import collections\n",
    "class Solution(object):\n",
    "    def numTilePossibilities(self, tiles):\n",
    "        \"\"\"\n",
    "        :type tiles: str\n",
    "        :rtype: int\n",
    "        \"\"\"\n",
    "        if tiles == '':\n",
    "            return (0)        \n",
    "        self.sol = []\n",
    "        self.con = collections.Counter(tiles)\n",
    "        print (self.con)\n",
    "        self.tile_set = set(tiles)\n",
    "        self.dfs(tiles,0,'')\n",
    "        print (self.sol)\n",
    "        return (len(self.sol)-1)\n",
    "    \n",
    "    def dfs(self,tiles,index,path):\n",
    "        # if path not in self.sol:\n",
    "        self.sol.append(path)\n",
    "        \n",
    "        for j in range(index,len(tiles)):\n",
    "            for i in self.tile_set:\n",
    "                # print (path)\n",
    "                path_dict = collections.Counter(path + i)  \n",
    "                # print (path_dict)\n",
    "                s1 = 0\n",
    "                if path_dict[i] > self.con[i]:\n",
    "                        pass\n",
    "                elif (path+i not in self.sol):\n",
    "                    self.dfs(tiles,index+1,path + i)\n",
    "        "
   ]
  }
 ],
 "metadata": {
  "kernelspec": {
   "display_name": "Python 3",
   "language": "python",
   "name": "python3"
  },
  "language_info": {
   "codemirror_mode": {
    "name": "ipython",
    "version": 3
   },
   "file_extension": ".py",
   "mimetype": "text/x-python",
   "name": "python",
   "nbconvert_exporter": "python",
   "pygments_lexer": "ipython3",
   "version": "3.7.3"
  }
 },
 "nbformat": 4,
 "nbformat_minor": 2
}
